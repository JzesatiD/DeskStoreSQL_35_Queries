{
 "cells": [
  {
   "cell_type": "markdown",
   "id": "1c1f2459",
   "metadata": {},
   "source": [
    "### Sales Value Metrics: Aggregate financial metrics across products, orders, and customers"
   ]
  },
  {
   "cell_type": "markdown",
   "id": "2af09040",
   "metadata": {},
   "source": [
    "### 1. Retrieve the Product IDs and the total cost of each product in Order 1001"
   ]
  },
  {
   "cell_type": "code",
   "execution_count": null,
   "id": "003742f5",
   "metadata": {
    "vscode": {
     "languageId": "sql"
    }
   },
   "outputs": [],
   "source": [
    "SELECT OLT.ProductID, SUM(OrderedQuantity*ProductStandardPrice) AS ProductTotal\n",
    "FROM OrderLine_T OLT, Product_T PT \n",
    "WHERE OLT.ProductID = PT.ProductID   --'of each' implies a Group (ProductID)\n",
    "AND OrderID = 1001                   --we can simply apply our filter here since we already have the ProductID in display\n",
    "GROUP BY OLT.ProductID; "
   ]
  },
  {
   "cell_type": "markdown",
   "id": "4c113511",
   "metadata": {
    "vscode": {
     "languageId": "plaintext"
    }
   },
   "source": [
    "### 2. List Customer names and total amount spent per customer"
   ]
  },
  {
   "cell_type": "code",
   "execution_count": null,
   "id": "e7b8e549",
   "metadata": {
    "vscode": {
     "languageId": "sql"
    }
   },
   "outputs": [],
   "source": [
    "SELECT CustomerName, SUM(OrderedQuantity*ProductStandardPrice) AS CustomerTotal\n",
    "FROM Customer_T CT \n",
    "INNER JOIN Order_T OT ON CT.CustomerID = OT.CustomerID      --Any time we request customer and total sales amount info\n",
    "INNER JOIN OrderLine_T OLT ON OT.OrderID = OLT.OrderID      --we require joining all tables\n",
    "INNER JOIN Product_T PT ON OLT.ProductID = PT.ProductID\n",
    "GROUP BY CustomerName; "
   ]
  },
  {
   "cell_type": "markdown",
   "id": "260a0988",
   "metadata": {},
   "source": [
    "### 3. For all customers that have placed orders, display customer IDs, names and their order numbers. Sort the result based on customer names"
   ]
  },
  {
   "cell_type": "code",
   "execution_count": null,
   "id": "fdcfbba0",
   "metadata": {
    "vscode": {
     "languageId": "sql"
    }
   },
   "outputs": [],
   "source": [
    "SELECT DISTINCT OT.CustomerID, CustomerName, OrderID\n",
    "FROM Customer_T CT INNER JOIN Order_T OT\n",
    "ON CT.CustomerID = OT.CustomerID\n",
    "ORDER BY CustomerName; "
   ]
  },
  {
   "cell_type": "markdown",
   "id": "b2a68526",
   "metadata": {},
   "source": [
    "### 4. Show customers with two or more orders. Include customer ID, name and number of orders."
   ]
  },
  {
   "cell_type": "code",
   "execution_count": null,
   "id": "66b953e0",
   "metadata": {
    "vscode": {
     "languageId": "sql"
    }
   },
   "outputs": [],
   "source": [
    "SELECT OT.CustomerID, CustomerName, COUNT(OrderID) AS NumOfOrders\n",
    "FROM Customer_T CT INNER JOIN Order_T OT\n",
    "ON CT.CustomerID = OT.CustomerID\n",
    "GROUP BY OT.CustomerID, CustomerName\n",
    "HAVING NumOfOrders >= 2; "
   ]
  },
  {
   "cell_type": "markdown",
   "id": "a2cc01e8",
   "metadata": {},
   "source": [
    "### 5. Retrieve customer ID and name that purchased products below average price"
   ]
  },
  {
   "cell_type": "code",
   "execution_count": null,
   "id": "a6366f36",
   "metadata": {
    "vscode": {
     "languageId": "sql"
    }
   },
   "outputs": [],
   "source": [
    "SELECT DISTINCT OT.CustomerID, CustomerName\n",
    "FROM Customer_T CT\n",
    "INNER JOIN Order_T OT ON CT.CustomerID = OT.CustomerID\n",
    "INNER JOIN OrderLine_T OLT ON OT.OrderID = OLT.OrderID\n",
    "WHERE OLT.ProductID IN (                              --Bypass needing to JOIN OLT w/ PT via common key reference\n",
    "    SELECT PT.ProductID\n",
    "    From Product_T PT\n",
    "    WHERE ProductStandardPrice < (                    --Subquery of AVG(price) to return comparison of EACH record\n",
    "        SELECT AVG(ProductStandardPrice)\n",
    "        FROM Product_T\n",
    "        )\n",
    "    )\n",
    "ORDER BY OT.CustomerID;"
   ]
  }
 ],
 "metadata": {
  "language_info": {
   "name": "python"
  }
 },
 "nbformat": 4,
 "nbformat_minor": 5
}
