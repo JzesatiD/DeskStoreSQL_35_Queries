{
 "cells": [
  {
   "cell_type": "markdown",
   "id": "1c1f2459",
   "metadata": {},
   "source": [
    "## Order Analysis: Explore order characteristics, structure, and high-value thresholds."
   ]
  },
  {
   "cell_type": "markdown",
   "id": "2af09040",
   "metadata": {},
   "source": [
    "## 1. Display Order ID and the total amount of each order (each order may include multiple products)"
   ]
  },
  {
   "cell_type": "code",
   "execution_count": null,
   "id": "003742f5",
   "metadata": {
    "vscode": {
     "languageId": "sql"
    }
   },
   "outputs": [],
   "source": [
    "SELECT OrderID, SUM(OrderedQuantity*ProductStandardPrice) AS Total_Amount\n",
    "FROM OrderLine_T OLT, Product_T PT \n",
    "WHERE OLT.ProductID = PT.ProductID\n",
    "GROUP BY OrderID;"
   ]
  },
  {
   "cell_type": "code",
   "execution_count": null,
   "id": "80b892dd",
   "metadata": {
    "vscode": {
     "languageId": "plaintext"
    }
   },
   "outputs": [],
   "source": [
    "Explaination: "
   ]
  },
  {
   "cell_type": "markdown",
   "id": "4c113511",
   "metadata": {
    "vscode": {
     "languageId": "plaintext"
    }
   },
   "source": [
    "## 2. List Orders with more than one Product and show number of products in each of these orders"
   ]
  },
  {
   "cell_type": "code",
   "execution_count": null,
   "id": "e7b8e549",
   "metadata": {
    "vscode": {
     "languageId": "sql"
    }
   },
   "outputs": [],
   "source": [
    "SELECT OrderID, COUNT(ProductID) AS Num_Product\n",
    "FROM OrderLine_T\n",
    "GROUP BY OrderID\n",
    "HAVING Num_Product > 1; "
   ]
  },
  {
   "cell_type": "markdown",
   "id": "260a0988",
   "metadata": {},
   "source": [
    "## 3. List total dollar amount for each order that includes ProductID = 2"
   ]
  },
  {
   "cell_type": "code",
   "execution_count": null,
   "id": "fdcfbba0",
   "metadata": {
    "vscode": {
     "languageId": "sql"
    }
   },
   "outputs": [],
   "source": [
    "SELECT OLT.OrderID, SUM(OrderedQuantity*ProductStandardPrice) AS OrderTotal\n",
    "FROM OrderLine_T OLT INNER JOIN Product_T PT \n",
    "ON OLT.ProductID = PT.ProductID\n",
    "--'that includes..' ==> yet is not part of the diplay component\n",
    "-- therefore, we implement a subquery\n",
    "WHERE OLT.OrderID IN (\n",
    "    OLT.OrderID\n",
    "    FROM OrderLine_T OLT\n",
    "    WHERE OLT.ProductID = 2\n",
    "    )\n",
    "GROUP BY OLT.OrderID \n",
    "-- i suspect this query could have done\n",
    "-- WHERE OLT.ProductID IN ( PT.OrderID... ) instead"
   ]
  },
  {
   "cell_type": "markdown",
   "id": "b2a68526",
   "metadata": {},
   "source": [
    "## 4. List total dollar amount for each order that includes Coffee Table"
   ]
  },
  {
   "cell_type": "code",
   "execution_count": null,
   "id": "66b953e0",
   "metadata": {
    "vscode": {
     "languageId": "sql"
    }
   },
   "outputs": [],
   "source": [
    "SELECT OrderID, SUM(OrderedQuantity*ProductStandardPrice) AS OrderTotal\n",
    "FROM OrderLine_T OLT INNER JOIN Product_T PT \n",
    "ON OLT.ProductID = PT.ProductID\n",
    "--'that includes..' ==> yet is not part of the diplay component\n",
    "-- therefore, we implement a subquery\n",
    "WHERE OrderID IN (\n",
    "    OrderID\n",
    "    FROM OrderLine_T OLT, Product_T\n",
    "    WHERE OLT.ProductID = PT.ProductID\n",
    "    AND ProductDescription = 'Coffee Table'\n",
    "    )\n",
    "GROUP BY OLT.OrderID"
   ]
  },
  {
   "cell_type": "markdown",
   "id": "a2cc01e8",
   "metadata": {},
   "source": [
    "## 5. For orders more than $2000, create an invoice and show the total dollar amount of each order. Sort the result by orderID"
   ]
  },
  {
   "cell_type": "code",
   "execution_count": null,
   "id": "a6366f36",
   "metadata": {
    "vscode": {
     "languageId": "sql"
    }
   },
   "outputs": [],
   "source": [
    "SELECT OT.OrderID, OrderDate, CustomerName,\n",
    "CONCAT(CustomerAddress, \" \", CustomerCity, \", \", CustomerState) AS Address,\n",
    "SUM(OrderedQuantity*ProductStandardPrice) AS OrderTotal\n",
    "FROM Customer_T CT\n",
    "INNER JOIN Order_T OT ON CT.CustomerID = OT.CustomerID\n",
    "INNER JOIN OrderLine_T OLT ON OT.OrderID = OLT.OrderID\n",
    "INNER JOIN Product_T PT ON OLT.ProductID = PT.ProductID\n",
    "GROUP BY OT.OrderID, CustomerName, Address\n",
    "HAVING OrderTotal > 2000\n",
    "ORDER BY OT.OrderID;\n"
   ]
  },
  {
   "cell_type": "markdown",
   "id": "de8a2795",
   "metadata": {},
   "source": [
    "## 6. For the most expensive products, display the order ID and customer name"
   ]
  },
  {
   "cell_type": "code",
   "execution_count": null,
   "id": "966a316b",
   "metadata": {
    "vscode": {
     "languageId": "sql"
    }
   },
   "outputs": [],
   "source": [
    "SELECT OLT.OrderID, CustomerName\n",
    "FROM Customer_T CT \n",
    "INNER JOIN Order_T OT ON CT.CustomerID = OT.CustomerID\n",
    "INNER JOIN OrderLine_T OLT ON OT.OrderID = OLT.OrderID\n",
    "--Mult-Subquery allows for bypassing the Product_T join\n",
    "WHERE OLT.ProductID IN (\n",
    "\tSELECT PT.ProductID\n",
    "\tFROM Product_T PT\n",
    "\tWHERE ProductStandardPrice = (\n",
    "\t\tSELECT MAX(ProductStandardPrice)\n",
    "\t\tFROM Product_T\n",
    "\t\t)\n",
    "\t)\n",
    ";"
   ]
  },
  {
   "cell_type": "code",
   "execution_count": null,
   "id": "497bc879",
   "metadata": {
    "vscode": {
     "languageId": "sql"
    }
   },
   "outputs": [],
   "source": []
  }
 ],
 "metadata": {
  "language_info": {
   "name": "python"
  }
 },
 "nbformat": 4,
 "nbformat_minor": 5
}
