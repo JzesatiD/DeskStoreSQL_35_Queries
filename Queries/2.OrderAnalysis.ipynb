{
 "cells": [
  {
   "cell_type": "markdown",
   "id": "1c1f2459",
   "metadata": {},
   "source": [
    "### Order Analysis: Explore order characteristics, structure, and high-value thresholds."
   ]
  },
  {
   "cell_type": "markdown",
   "id": "2af09040",
   "metadata": {},
   "source": [
    "### 1. Display Order ID and the total amount of each order (each order may include multiple products)"
   ]
  },
  {
   "cell_type": "code",
   "execution_count": null,
   "id": "003742f5",
   "metadata": {
    "vscode": {
     "languageId": "sql"
    }
   },
   "outputs": [],
   "source": [
    "SELECT OrderID, SUM(OrderedQuantity*ProductStandardPrice) AS Total_Amount\n",
    "FROM OrderLine_T OLT, Product_T PT      --Commpute Quantity x Price\n",
    "WHERE OLT.ProductID = PT.ProductID\n",
    "GROUP BY OrderID;"
   ]
  },
  {
   "cell_type": "markdown",
   "id": "4c113511",
   "metadata": {
    "vscode": {
     "languageId": "plaintext"
    }
   },
   "source": [
    "### 2. List Orders with more than one Product and show number of products in each of these orders"
   ]
  },
  {
   "cell_type": "code",
   "execution_count": null,
   "id": "e7b8e549",
   "metadata": {
    "vscode": {
     "languageId": "sql"
    }
   },
   "outputs": [],
   "source": [
    "SELECT OrderID, COUNT(ProductID) AS Num_Product  --Consider OrderID from the OrderLine (Associate Table)\n",
    "FROM OrderLine_T                                 --however, account for orders that feature multiple products\n",
    "GROUP BY OrderID\n",
    "HAVING Num_Product > 1; "
   ]
  },
  {
   "cell_type": "markdown",
   "id": "260a0988",
   "metadata": {},
   "source": [
    "### 3. List total dollar amount for each order that includes ProductID = 2"
   ]
  },
  {
   "cell_type": "code",
   "execution_count": null,
   "id": "fdcfbba0",
   "metadata": {
    "vscode": {
     "languageId": "sql"
    }
   },
   "outputs": [],
   "source": [
    "SELECT OLT.OrderID, SUM(OrderedQuantity*ProductStandardPrice) AS OrderTotal\n",
    "FROM OrderLine_T OLT INNER JOIN Product_T PT        --'that includes..' ==> yet is not part of the diplay component\n",
    "ON OLT.ProductID = PT.ProductID                     --therefore, we implement a subquery to account for orders that \n",
    "WHERE OLT.OrderID IN (                              --feature productID 2 (but not only productID 2, that's the diff.)\n",
    "    OLT.OrderID\n",
    "    FROM OrderLine_T OLT\n",
    "    WHERE OLT.ProductID = 2\n",
    "    )\n",
    "GROUP BY OLT.OrderID "
   ]
  },
  {
   "cell_type": "markdown",
   "id": "b2a68526",
   "metadata": {},
   "source": [
    "### 4. List total dollar amount for each order that includes Coffee Table"
   ]
  },
  {
   "cell_type": "code",
   "execution_count": null,
   "id": "66b953e0",
   "metadata": {
    "vscode": {
     "languageId": "sql"
    }
   },
   "outputs": [],
   "source": [
    "SELECT OrderID, SUM(OrderedQuantity*ProductStandardPrice) AS OrderTotal\n",
    "FROM OrderLine_T OLT INNER JOIN Product_T PT \n",
    "ON OLT.ProductID = PT.ProductID\n",
    "--'that includes..' ==> yet is not part of the diplay component\n",
    "-- therefore, we implement a subquery\n",
    "WHERE OrderID IN (\n",
    "    OrderID\n",
    "    FROM OrderLine_T OLT, Product_T PT\n",
    "    WHERE OLT.ProductID = PT.ProductID\n",
    "    AND ProductDescription = 'Coffee Table'\n",
    "    )\n",
    "GROUP BY OLT.OrderID"
   ]
  },
  {
   "cell_type": "markdown",
   "id": "a2cc01e8",
   "metadata": {},
   "source": [
    "### 5. For orders more than $2000, create an invoice and show the total dollar amount of each order. Sort the result by orderID"
   ]
  },
  {
   "cell_type": "code",
   "execution_count": null,
   "id": "a6366f36",
   "metadata": {
    "vscode": {
     "languageId": "sql"
    }
   },
   "outputs": [],
   "source": [
    "SELECT OT.OrderID, OrderDate, CustomerName,\n",
    "CONCAT(CustomerAddress, \" \", CustomerCity, \", \", CustomerState) AS Address,\n",
    "SUM(OrderedQuantity*ProductStandardPrice) AS OrderTotal\n",
    "--Joining all four tables\n",
    "FROM Customer_T CT\n",
    "INNER JOIN Order_T OT ON CT.CustomerID = OT.CustomerID\n",
    "INNER JOIN OrderLine_T OLT ON OT.OrderID = OLT.OrderID\n",
    "INNER JOIN Product_T PT ON OLT.ProductID = PT.ProductID\n",
    "GROUP BY OT.OrderID, OrderDate, CustomerName, Address\n",
    "HAVING OrderTotal > 2000\n",
    "ORDER BY OT.OrderID;\n"
   ]
  },
  {
   "cell_type": "markdown",
   "id": "de8a2795",
   "metadata": {},
   "source": [
    "### 6. For the most expensive products, display the order ID and customer name"
   ]
  },
  {
   "cell_type": "code",
   "execution_count": null,
   "id": "966a316b",
   "metadata": {
    "vscode": {
     "languageId": "sql"
    }
   },
   "outputs": [],
   "source": [
    "SELECT OLT.OrderID, CustomerName\n",
    "FROM Customer_T CT \n",
    "INNER JOIN Order_T OT ON CT.CustomerID = OT.CustomerID\n",
    "INNER JOIN OrderLine_T OLT ON OT.OrderID = OLT.OrderID\n",
    "--Mult-Subquery allows for bypassing the Product_T join\n",
    "WHERE OLT.ProductID IN (\n",
    "\tSELECT PT.ProductID\t\t\t\t\t\t\t--SQL does not allow us to place Aggregate functions in the WHERE clause\n",
    "\tFROM Product_T PT\t\t\t\t\t\t\t--Futhermore, we want to compare EACH record of products to to an MAX price\n",
    "\tWHERE ProductStandardPrice = (\t\t\t\t--Once we derive the MAX price 1st, then we can evaluate\n",
    "\t\tSELECT MAX(ProductStandardPrice)\n",
    "\t\tFROM Product_T\n",
    "\t\t)\n",
    "\t)\n",
    ";"
   ]
  }
 ],
 "metadata": {
  "language_info": {
   "name": "python"
  }
 },
 "nbformat": 4,
 "nbformat_minor": 5
}
