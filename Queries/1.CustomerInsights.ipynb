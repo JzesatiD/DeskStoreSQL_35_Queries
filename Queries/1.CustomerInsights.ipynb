{
 "cells": [
  {
   "cell_type": "markdown",
   "id": "1c1f2459",
   "metadata": {},
   "source": [
    "### Customer Insights: Understand customer behavior, location trends, and engagement"
   ]
  },
  {
   "cell_type": "markdown",
   "id": "2af09040",
   "metadata": {},
   "source": [
    "### 1. List all States with more than 2 customers per state"
   ]
  },
  {
   "cell_type": "code",
   "execution_count": null,
   "id": "003742f5",
   "metadata": {
    "vscode": {
     "languageId": "sql"
    }
   },
   "outputs": [],
   "source": [
    "SELECT CustomerState, COUNT(*) Count_0f_Customers  --Count aggregate is necessary to complement the display request component\n",
    "FROM Customer_T\n",
    "GROUP BY CustomerState                             --Necessary after use of Aggregate\n",
    "HAVING Count_Of_Customers >= 2;                    --Condition for the Group (of states)"
   ]
  },
  {
   "cell_type": "markdown",
   "id": "4c113511",
   "metadata": {
    "vscode": {
     "languageId": "plaintext"
    }
   },
   "source": [
    "### 2. Retrieve names and state of customers not in Florida, California, and Texas"
   ]
  },
  {
   "cell_type": "code",
   "execution_count": null,
   "id": "e7b8e549",
   "metadata": {
    "vscode": {
     "languageId": "sql"
    }
   },
   "outputs": [],
   "source": [
    "SELECT CustomerName, CustomerState\n",
    "FROM Customer_T\n",
    "WHERE CustomerState NOT IN ('CA', 'FL', 'TX')   --Conditional using comparison operator\n",
    "ORDER BY CustomerName, CustomerState;"
   ]
  },
  {
   "cell_type": "markdown",
   "id": "260a0988",
   "metadata": {},
   "source": [
    "### 3. Find how many customers are there in each state"
   ]
  },
  {
   "cell_type": "code",
   "execution_count": null,
   "id": "fdcfbba0",
   "metadata": {
    "vscode": {
     "languageId": "sql"
    }
   },
   "outputs": [],
   "source": [
    "SELECT CustomerState, COUNT(*) Count_0f_Customers \n",
    "FROM Customer_T             --Identical to Q1, although without a (group) condition\n",
    "GROUP BY CustomerState;"
   ]
  },
  {
   "cell_type": "markdown",
   "id": "a2cc01e8",
   "metadata": {},
   "source": [
    "### 4. List Customer ID and names for customers that did not place any order"
   ]
  },
  {
   "cell_type": "code",
   "execution_count": null,
   "id": "a6366f36",
   "metadata": {
    "vscode": {
     "languageId": "sql"
    }
   },
   "outputs": [],
   "source": [
    "SELECT CustomerID, CustomerName  \n",
    "FROM Customer_T             --Subquery in the words \"that did not\"\n",
    "WHERE CustomerID NOT IN (   --...because we want to exclude these records 1st since they are\n",
    "    SELECT CustomerID       --...are not part of the display request\n",
    "    From Order_T\n",
    "    )\n",
    ";"
   ]
  },
  {
   "cell_type": "markdown",
   "id": "de8a2795",
   "metadata": {},
   "source": [
    "### 5. For each Florida customer with less than three orders, display their names and how Many times each customer placed orders"
   ]
  },
  {
   "cell_type": "code",
   "execution_count": null,
   "id": "966a316b",
   "metadata": {
    "vscode": {
     "languageId": "sql"
    }
   },
   "outputs": [],
   "source": [
    "SELECT CustomerName, COUNT(OT.CustomerID) AS CountOfOrders --'For Each' ==> Group ; 'how many' ==> COUNT\n",
    "FROM Customer_T CT LEFT OUTER JOIN Order_T OT              --Outer Joins allow us to include customers who\n",
    "ON CT.CustomerID = OT.CustomerID                           --are in the customer table, but not the Order Table\n",
    "WHERE CustomerState = 'FL'\n",
    "GROUP BY CustomerName\n",
    "HAVING CountOfOrders < 3; "
   ]
  },
  {
   "cell_type": "markdown",
   "id": "94cf9788",
   "metadata": {},
   "source": [
    "### 6. For each customer with less than 2 orders and outside California and Florida, display their names and how many times each customer placed orders"
   ]
  },
  {
   "cell_type": "code",
   "execution_count": null,
   "id": "f3745ced",
   "metadata": {
    "vscode": {
     "languageId": "sql"
    }
   },
   "outputs": [],
   "source": [
    "SELECT CustomerName, COUNT(OrderID) AS CountOfOrders --Identical principles from Q5\n",
    "FROM Customer_T CT LEFT OUTER JOIN Order_T OT\n",
    "ON CT.CustomerID = OT.CustomerID\n",
    "WHERE CustomerState NOT IN ('CA', 'FL')              --We use a comparison operator to filter rows \n",
    "GROUP BY CustomerName\n",
    "HAVING CountOfOrders < 2;"
   ]
  },
  {
   "cell_type": "markdown",
   "id": "54eeabe9",
   "metadata": {},
   "source": [
    "### 7. List customer names and states that either ordered products with less than average price or they are located in any state except NY, NJ, TX (EXISTS Operator)"
   ]
  },
  {
   "cell_type": "code",
   "execution_count": null,
   "id": "514a83f1",
   "metadata": {
    "vscode": {
     "languageId": "sql"
    }
   },
   "outputs": [],
   "source": [
    "SELECT DISTINCT CustomerName, CustomerState\t\t\t --'that either..' implies subquery \n",
    "FROM Customer_T CT\n",
    "INNER JOIN Order_T OT ON CT.CustomerID = OT.CustomerID\n",
    "INNER JOIN OrderLine_T OLT ON OT.OrderID = OLT.OrderID\n",
    "WHERE EXISTS (\t\t\t\t\t\t\t\t\t     --EXISTS allows connection from Product_T back to\n",
    "\tSELECT *\t\t\t\t\t\t\t\t\t     --OrderLine_T via ProductID reference, w/o a JOIN\n",
    "\tFROM Product_T PT\n",
    "\tWHERE ProductID = OLT.ProductID\n",
    "\tAND ProductStandardPrice < (\n",
    "\t\tSELECT AVG(ProductStandardPrice)\t\t     --Secondary condition \n",
    "\t\tFROM Product_T\n",
    "\t\t)\n",
    "\t)\n",
    "OR CustomerState NOT IN ('NY', 'NJ', 'TX'); -- alt \"!=\" logic \n",
    "--SQL does not allow us to place Aggregate functions in the WHERE clause\n",
    "--Futhermore, we want to compare EACH record of products to to an AVG price\n",
    "--Once we derive the AVG price 1st, then we can evaluate"
   ]
  },
  {
   "cell_type": "markdown",
   "id": "02c32ba5",
   "metadata": {},
   "source": [
    "### 8. Retrieve names and states of customers that have placed orders and are not located in California or Texas"
   ]
  },
  {
   "cell_type": "code",
   "execution_count": null,
   "id": "8b515abe",
   "metadata": {
    "vscode": {
     "languageId": "sql"
    }
   },
   "outputs": [],
   "source": [
    "SELECT DISTINCT CustomerName, CustomerState    --DISTINCT, because we want to avoid multiple records of \n",
    "FROM Customer_T CT INNER JOIN Order_T OT       --same customer who has 1 > record in Order Table\n",
    "ON CT.CustomerID = OT.CustomerID \n",
    "WHERE CustomerState NOT IN ('CA', 'FL', 'TX'); --Comparison operator to filter out records"
   ]
  }
 ],
 "metadata": {
  "language_info": {
   "name": "python"
  }
 },
 "nbformat": 4,
 "nbformat_minor": 5
}
