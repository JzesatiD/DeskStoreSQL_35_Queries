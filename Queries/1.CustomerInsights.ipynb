{
 "cells": [
  {
   "cell_type": "markdown",
   "id": "1c1f2459",
   "metadata": {},
   "source": [
    "## Customer Insights: Understand customer behavior, location trends, and engagement"
   ]
  },
  {
   "cell_type": "markdown",
   "id": "2af09040",
   "metadata": {},
   "source": [
    "## 1. List all States with more than 2 customers per state"
   ]
  },
  {
   "cell_type": "code",
   "execution_count": null,
   "id": "003742f5",
   "metadata": {
    "vscode": {
     "languageId": "sql"
    }
   },
   "outputs": [],
   "source": [
    "SELECT CustomerState, COUNT(*)\n",
    "FROM Customer_T\n",
    "GROUP BY CustomerState\n",
    "HAVING COUNT(*) > 2;"
   ]
  },
  {
   "cell_type": "code",
   "execution_count": null,
   "id": "80b892dd",
   "metadata": {
    "vscode": {
     "languageId": "plaintext"
    }
   },
   "outputs": [],
   "source": [
    "Explaination: "
   ]
  },
  {
   "cell_type": "markdown",
   "id": "4c113511",
   "metadata": {
    "vscode": {
     "languageId": "plaintext"
    }
   },
   "source": [
    "## 2. Retrieve names and state of customers not in Florida, California, and Texas"
   ]
  },
  {
   "cell_type": "code",
   "execution_count": null,
   "id": "e7b8e549",
   "metadata": {
    "vscode": {
     "languageId": "sql"
    }
   },
   "outputs": [],
   "source": [
    "SELECT CustomerName, CustomerState\n",
    "FROM Customer_T\n",
    "WHERE CustomerState NOT IN ('CA', 'FL', 'TX')\n",
    "ORDER BY CustomerName, CustomerState;"
   ]
  },
  {
   "cell_type": "markdown",
   "id": "260a0988",
   "metadata": {},
   "source": [
    "## 3. Find how many customers are there in each state"
   ]
  },
  {
   "cell_type": "code",
   "execution_count": null,
   "id": "fdcfbba0",
   "metadata": {
    "vscode": {
     "languageId": "sql"
    }
   },
   "outputs": [],
   "source": [
    "SELECT CustomerState, COUNT(*) Count_0f_Customers\n",
    "FROM Customer_T\n",
    "GROUP BY CustomerState;"
   ]
  },
  {
   "cell_type": "markdown",
   "id": "b2a68526",
   "metadata": {},
   "source": [
    "## 4. Find states with two or more customers"
   ]
  },
  {
   "cell_type": "code",
   "execution_count": null,
   "id": "66b953e0",
   "metadata": {
    "vscode": {
     "languageId": "sql"
    }
   },
   "outputs": [],
   "source": [
    "SELECT CustomerState, COUNT(*) Count_0f_Customers\n",
    "FROM Customer_T\n",
    "GROUP BY CustomerState\n",
    "HAVING Count_Of_Customers >= 2; "
   ]
  },
  {
   "cell_type": "markdown",
   "id": "a2cc01e8",
   "metadata": {},
   "source": [
    "## 5. List Customer ID and names for customers that did not place any order"
   ]
  },
  {
   "cell_type": "code",
   "execution_count": null,
   "id": "a6366f36",
   "metadata": {
    "vscode": {
     "languageId": "sql"
    }
   },
   "outputs": [],
   "source": [
    "SELECT CustomerID, CustomerName\n",
    "FROM Customer_T\n",
    "WHERE CustomerID NOT IN ( \n",
    "    SELECT CustomerID\" \n",
    "    From Order_T\n",
    "    )\n",
    ";"
   ]
  },
  {
   "cell_type": "markdown",
   "id": "de8a2795",
   "metadata": {},
   "source": [
    "## 6. For each Florida customer with less than three orders, display their names and how Many times each customer placed orders"
   ]
  },
  {
   "cell_type": "code",
   "execution_count": null,
   "id": "966a316b",
   "metadata": {
    "vscode": {
     "languageId": "sql"
    }
   },
   "outputs": [],
   "source": [
    "SELECT CustomerName, COUNT(OT.CustomerID) AS CountOfOrders\n",
    "FROM Customer_T CT LEFT OUTER JOIN Order_T OT\n",
    "ON CT.CustomerID = OT.CustomerID\n",
    "WHERE CustomerState = 'FL'\n",
    "GROUP BY CustomerName\n",
    "HAVING CountOfOrders < 3; "
   ]
  },
  {
   "cell_type": "markdown",
   "id": "94cf9788",
   "metadata": {},
   "source": [
    "## 7. For each customer with less than 2 orders and outside California and Florida, display their names and how many times each customer placed orders"
   ]
  },
  {
   "cell_type": "code",
   "execution_count": null,
   "id": "f3745ced",
   "metadata": {
    "vscode": {
     "languageId": "sql"
    }
   },
   "outputs": [],
   "source": [
    "SELECT CustomerName, COUNT(OrderID) AS CountOfOrders\n",
    "FROM Customer_T CT LEFT OUTER JOIN Order_T OT\n",
    "ON CT.CustomerID = OT.CustomerID\n",
    "WHERE CustomerState NOT IN ('CA', 'FL')\n",
    "GROUP BY CustomerName\n",
    "HAVING CountOfOrders < 2;"
   ]
  },
  {
   "cell_type": "markdown",
   "id": "54eeabe9",
   "metadata": {},
   "source": [
    "## 8. List customer names and states that either ordered products with less than average price or they are located in any state except NY, NJ, TX (EXISTS Operator)"
   ]
  },
  {
   "cell_type": "code",
   "execution_count": null,
   "id": "514a83f1",
   "metadata": {
    "vscode": {
     "languageId": "sql"
    }
   },
   "outputs": [],
   "source": [
    "SELECT DISTINCT CustomerName, CustomerState\n",
    "FROM Customer_T CT\n",
    "INNER JOIN Order_T OT ON CT.CustomerID = OT.CustomerID\n",
    "INNER JOIN OrderLine_T OLT ON OT.OrderID = OLT.OrderID\n",
    "WHERE EXISTS (\n",
    "\tSELECT *\n",
    "\tFROM Product_T PT\n",
    "\tWHERE ProductID = OLT.ProductID\n",
    "\tAND ProductStandardPrice < (\n",
    "\t\tSELECT AVG(ProductStandardPrice)\n",
    "\t\tFROM Product_T\n",
    "\t\t)\n",
    "\t)\n",
    "OR CustomerState NOT IN ('NY', 'NJ', 'TX');"
   ]
  },
  {
   "cell_type": "markdown",
   "id": "02c32ba5",
   "metadata": {},
   "source": [
    "## 9. Retrieve names and states of customers that have placed orders and are not located in California or Texas"
   ]
  },
  {
   "cell_type": "code",
   "execution_count": null,
   "id": "8b515abe",
   "metadata": {
    "vscode": {
     "languageId": "sql"
    }
   },
   "outputs": [],
   "source": [
    "SELECT CustomerName, CustomerState\n",
    "FROM Customer_T\n",
    "WHERE CustomerState NOT IN ('CA', 'FL', 'TX')\n",
    "ORDER BY CustomerState; "
   ]
  },
  {
   "cell_type": "markdown",
   "id": "9c4ea4c6",
   "metadata": {},
   "source": [
    "## 10. Display names of Florida customers with more than one order"
   ]
  },
  {
   "cell_type": "code",
   "execution_count": null,
   "id": "8f1e30c3",
   "metadata": {
    "vscode": {
     "languageId": "sql"
    }
   },
   "outputs": [],
   "source": [
    "SELECT CustomerName, COUNT(OT.OrderID) AS NumOfOrders\n",
    "FROM Customer_T CT\n",
    "INNER JOIN Order_T ON CT.CustomerID = OT.CustomerID\n",
    "WHERE CustomerState = 'FL'\n",
    "GROUP BY CustomerName\n",
    "HAVING NumOfOrders > 1; "
   ]
  },
  {
   "cell_type": "code",
   "execution_count": null,
   "id": "09dc420a",
   "metadata": {
    "vscode": {
     "languageId": "sql"
    }
   },
   "outputs": [],
   "source": []
  }
 ],
 "metadata": {
  "language_info": {
   "name": "python"
  }
 },
 "nbformat": 4,
 "nbformat_minor": 5
}
