{
 "cells": [
  {
   "cell_type": "markdown",
   "id": "1c1f2459",
   "metadata": {},
   "source": [
    "### Product Performance: Measure product demand, pricing, and sales velocity."
   ]
  },
  {
   "cell_type": "markdown",
   "id": "2af09040",
   "metadata": {},
   "source": [
    "### 1. Display average standard price for every product finish"
   ]
  },
  {
   "cell_type": "code",
   "execution_count": null,
   "id": "003742f5",
   "metadata": {
    "vscode": {
     "languageId": "sql"
    }
   },
   "outputs": [],
   "source": [
    "SELECT ProductFinish, AVG(ProductStandardPrice) AS AVG_Price\n",
    "FROM Customer_T\n",
    "GROUP BY ProductFinish; "
   ]
  },
  {
   "cell_type": "markdown",
   "id": "4c113511",
   "metadata": {
    "vscode": {
     "languageId": "plaintext"
    }
   },
   "source": [
    "### 2. For all ordered products, list product IDs, their description and the number of times each product has been ordered."
   ]
  },
  {
   "cell_type": "code",
   "execution_count": null,
   "id": "e7b8e549",
   "metadata": {
    "vscode": {
     "languageId": "sql"
    }
   },
   "outputs": [],
   "source": [
    "SELECT OLT.ProductID, ProductDescription, COUNT(OLT.OrderID) AS TimesOrdered\n",
    "FROM OrderLine_T OLT, Product_T PT \n",
    "WHERE OLT.ProductID = PT.ProductID\n",
    "GROUP BY OLT.ProductID, ProductDescription; "
   ]
  },
  {
   "cell_type": "markdown",
   "id": "260a0988",
   "metadata": {},
   "source": [
    "### 3. List product ID, description and price of products with less than average standard price of  all products."
   ]
  },
  {
   "cell_type": "code",
   "execution_count": null,
   "id": "fdcfbba0",
   "metadata": {
    "vscode": {
     "languageId": "sql"
    }
   },
   "outputs": [],
   "source": [
    "SELECT ProductID, ProductDescription, ProductStandardPrice\n",
    "FROM Product_T \n",
    "WHERE ProductStandardPrice < (          --Subquery to bypass need to compare records using aggregate\n",
    "    SELECT AVG(ProductStandardPrice)      \n",
    "    FROM Product_T\n",
    "    )\n",
    ";"
   ]
  },
  {
   "cell_type": "markdown",
   "id": "b2a68526",
   "metadata": {},
   "source": [
    "### 4. List product ID, description and price for products with less than average standard price that have been ordered more than once. Sort the result based on the product price. (Use subqueries)"
   ]
  },
  {
   "cell_type": "code",
   "execution_count": null,
   "id": "66b953e0",
   "metadata": {
    "vscode": {
     "languageId": "sql"
    }
   },
   "outputs": [],
   "source": [
    "SELECT ProductID, ProductDescription, ProductStandardPrice\n",
    "FROM Product_T PT\n",
    "WHERE ProductStandardPrice < (\n",
    "    SELECT AVG(ProductStandardPrice)\n",
    "    FROM Product_T\n",
    "    )\n",
    "    AND PT.ProductID IN (           --'... with... that have' ==> compound subquery\n",
    "        SELECT OLT.ProductID        --we're thinking of comparing all records to these selected conditions\n",
    "        FROM OrderLine_T OLT        --which are separate from the display request\n",
    "        GROUP BY OLT.ProductID\n",
    "        HAVING COUNt(*) > 1\n",
    "    )\n",
    "ORDER BY ProductStandardPrice;\n",
    "/*These table references dont have to match as long as the keys are the same\n",
    "(PT. Vs. OLT ==> ProductID)\n",
    "Then, our last subquery's GROUP BY allows for us to use a Boolean in HAVING clause*/"
   ]
  },
  {
   "cell_type": "markdown",
   "id": "a2cc01e8",
   "metadata": {},
   "source": [
    "### 5. Display the ProductFinish of products that appear in 3 or more orders"
   ]
  },
  {
   "cell_type": "code",
   "execution_count": null,
   "id": "a6366f36",
   "metadata": {
    "vscode": {
     "languageId": "sql"
    }
   },
   "outputs": [],
   "source": [
    "SELECT DISTINCT ProductFinish\n",
    "FROM Product_T \n",
    "WHERE ProductID IN (\t\t\t--To obtain product info as it relates to orders, we subquery from OrderLine_T\n",
    "\tSELECT ProductID\t\t\t\n",
    "\tFROM OrderLine_T\n",
    "\tGROUP BY ProductID\n",
    "\tHAVING COUNT(*) >= 3\n",
    "\t)\n",
    ";"
   ]
  },
  {
   "cell_type": "markdown",
   "id": "94cf9788",
   "metadata": {},
   "source": [
    "### 6. What quantity of each product finish has been ordered by customers  whose postal code starts with 9 or ends with 4? Show each Product finish along with its total quantity ordered."
   ]
  },
  {
   "cell_type": "code",
   "execution_count": null,
   "id": "f3745ced",
   "metadata": {
    "vscode": {
     "languageId": "sql"
    }
   },
   "outputs": [],
   "source": [
    "SELECT ProductFinish, SUM(OrderedQuantity) AS TotalQuantity\n",
    "FROM Customer_T CT\n",
    "INNER JOIN Order_T OT ON CT.CustomerID = OT.CustomerID\n",
    "INNER JOIN OrderLine_T OLT ON OT.OrderID = OLT.OrderID\n",
    "INNER JOIN Product_T PT ON OLT.ProductID = PT.ProductID\n",
    "WHERE (CustomerPostalCode LIKE '9%' OR CustomerPostalCode LIKE '%4')\n",
    "--Alt: ... LIKE \"9%\" OR ... LIKE \"%4\". i.e. No \"(\" or \")\", but 9% & %4 in double quotes\n",
    "GROUP BY ProductFinish;"
   ]
  },
  {
   "cell_type": "markdown",
   "id": "19198bec",
   "metadata": {},
   "source": [
    "### 7. List in alphabetic order the product finish and the average price for each product finish with the average price of less than 750."
   ]
  },
  {
   "cell_type": "code",
   "execution_count": null,
   "id": "8a4d00e9",
   "metadata": {
    "vscode": {
     "languageId": "sql"
    }
   },
   "outputs": [],
   "source": [
    "SELECT ProductFinish, AVG(ProductStandardPrice) AS AvgPrice\n",
    "FROM Product_T\n",
    "GROUP BY ProductFinish\n",
    "HAVING AvgPrice < 750;\n",
    "--ORDER BY is not required as output by default will be in ASC order "
   ]
  }
 ],
 "metadata": {
  "language_info": {
   "name": "python"
  }
 },
 "nbformat": 4,
 "nbformat_minor": 5
}
