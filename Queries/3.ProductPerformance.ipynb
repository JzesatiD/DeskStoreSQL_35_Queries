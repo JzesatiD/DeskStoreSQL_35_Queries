{
 "cells": [
  {
   "cell_type": "markdown",
   "id": "1c1f2459",
   "metadata": {},
   "source": [
    "### Product Performance: Measure product demand, pricing, and sales velocity."
   ]
  },
  {
   "cell_type": "markdown",
   "id": "2af09040",
   "metadata": {},
   "source": [
    "### 1. Display average standard price for every product finish"
   ]
  },
  {
   "cell_type": "code",
   "execution_count": null,
   "id": "003742f5",
   "metadata": {
    "vscode": {
     "languageId": "sql"
    }
   },
   "outputs": [],
   "source": [
    "SELECT ProductFinish, AVG(ProductStandardPrice)\n",
    "FROM Customer_T\n",
    "GROUP BY ProductFinish; "
   ]
  },
  {
   "cell_type": "code",
   "execution_count": null,
   "id": "80b892dd",
   "metadata": {
    "vscode": {
     "languageId": "plaintext"
    }
   },
   "outputs": [],
   "source": [
    "Explaination: "
   ]
  },
  {
   "cell_type": "markdown",
   "id": "4c113511",
   "metadata": {
    "vscode": {
     "languageId": "plaintext"
    }
   },
   "source": [
    "### 2. For all ordered products, list product IDs, their description and the number of times each product has been ordered."
   ]
  },
  {
   "cell_type": "code",
   "execution_count": null,
   "id": "e7b8e549",
   "metadata": {
    "vscode": {
     "languageId": "sql"
    }
   },
   "outputs": [],
   "source": [
    "SELECT OLT.ProductID, ProductDescription, COUNT(OLT.OrderID) AS TimesOrdered\n",
    "FROM OrderLine_T OLT, Product_T PT \n",
    "WHERE OLT.ProductID = PT.ProductID\n",
    "GROUP BY OLT.ProductID, ProductDescription; "
   ]
  },
  {
   "cell_type": "markdown",
   "id": "260a0988",
   "metadata": {},
   "source": [
    "### 3. List product ID, description and price of products with less than average standard price of  all products."
   ]
  },
  {
   "cell_type": "code",
   "execution_count": null,
   "id": "fdcfbba0",
   "metadata": {
    "vscode": {
     "languageId": "sql"
    }
   },
   "outputs": [],
   "source": [
    "SELECT ProductID, ProductDescription, ProductStandardPrice\n",
    "FROM Product_T \n",
    "WHERE ProductStandardPrice < (\n",
    "    SELECT AVG(ProductStandardPrice)\n",
    "    FROM Product_T\n",
    "    )\n",
    ";"
   ]
  },
  {
   "cell_type": "markdown",
   "id": "b2a68526",
   "metadata": {},
   "source": [
    "### 4. List product ID, description and price for products with less than average standard price that have been ordered more than once. Sort the result based on the product price. (Use subqueries)"
   ]
  },
  {
   "cell_type": "code",
   "execution_count": null,
   "id": "66b953e0",
   "metadata": {
    "vscode": {
     "languageId": "sql"
    }
   },
   "outputs": [],
   "source": [
    "SELECT ProductID, ProductDescription, ProductStandardPrice\n",
    "FROM Product_T PT\n",
    "WHERE ProductStandardPrice < (\n",
    "    SELECT AVG(ProductStandardPrice)\n",
    "    FROM Product_T\n",
    "    )\n",
    "    AND PT.ProductID IN (\n",
    "        SELECT OLT.ProductID\n",
    "        FROM OrderLine_T OLT\n",
    "        GROUP BY OLT.ProductID\n",
    "        HAVING COUNt(*) > 1\n",
    "    )\n",
    "ORDER BY ProductStandardPrice;\n",
    "/*These table references dont have to match as long as the keys are the same\n",
    "(PT. Vs. OLT ==> ProductID)\n",
    "Then, our last subquery's GROUP BY allows for us to use a Boolean in HAVING clause*/"
   ]
  },
  {
   "cell_type": "markdown",
   "id": "a2cc01e8",
   "metadata": {},
   "source": [
    "### 5. Display the ProductFinish of products that appear in 3 or more orders"
   ]
  },
  {
   "cell_type": "code",
   "execution_count": null,
   "id": "a6366f36",
   "metadata": {
    "vscode": {
     "languageId": "sql"
    }
   },
   "outputs": [],
   "source": [
    "SELECT DISTINCT ProductFinish\n",
    "FROM Product_T \n",
    "WHERE ProductID IN (\n",
    "\tSELECT ProductID\n",
    "\tFROM OrderLine_T\n",
    "\tGROUP BY ProductID\n",
    "\tHAVING COUNT(*) >= 3\n",
    "\t)\n",
    ";"
   ]
  },
  {
   "cell_type": "markdown",
   "id": "de8a2795",
   "metadata": {},
   "source": [
    "### 6. Using a joing, Show description and total quantity of products that have been ordered a total of more than 3 quantity and are more expensive than the average price of product lines 1 and 2. "
   ]
  },
  {
   "cell_type": "code",
   "execution_count": null,
   "id": "966a316b",
   "metadata": {
    "vscode": {
     "languageId": "sql"
    }
   },
   "outputs": [],
   "source": [
    "SELECT ProductDescription,  \n",
    "SUM(OrderedQuantity) AS \"How Many Sold\"\n",
    "FROM OrderLine_T OLT INNER JOIN Product_T PT\n",
    "ON OLT.ProductID = PT.ProductID\n",
    "WHERE EXISTS (\n",
    "\tSELECT *\n",
    "\tFROM Product_T\n",
    "\tWHERE ProductID = PT.ProductID\n",
    "\tAND ProductStandardPrice > (\n",
    "\t\tSELECT AVG(ProductStandardPrice)\n",
    "\t\tFROM Product_T \n",
    "\t\tWHERE ProductLineID IN (1,2)\n",
    "\t\t)\n",
    "\t)\n",
    "GROUP BY ProductDescription\n",
    "HAVING \"How Many Sold\" > 3;"
   ]
  },
  {
   "cell_type": "markdown",
   "id": "94cf9788",
   "metadata": {},
   "source": [
    "### 7. What quantity of each product finish has been ordered by customers  whose postal code starts with 9 or ends with 4? Show each Product finish along with its total quantity ordered."
   ]
  },
  {
   "cell_type": "code",
   "execution_count": null,
   "id": "f3745ced",
   "metadata": {
    "vscode": {
     "languageId": "sql"
    }
   },
   "outputs": [],
   "source": [
    "SELECT ProductFinish, SUM(OrderedQuantity) AS TotalQuantity\n",
    "FROM Customer_T CT\n",
    "INNER JOIN Order_T OT ON CT.CustomerID = OT.CustomerID\n",
    "INNER JOIN OrderLine_T OLT ON OT.OrderID = OLT.OrderID\n",
    "INNER JOIN Product_T PT ON OLT.ProductID = PT.ProductID\n",
    "WHERE (CustomerPostalCode LIKE '9%' OR CustomerPostalCode LIKE '%4')\n",
    "--Alt: ... LIKE \"9%\" OR ... LIKE \"%4\". i.e. No \"(\" or \")\", but 9% & %4 in double quotes\n",
    "GROUP BY ProductFinish;"
   ]
  },
  {
   "cell_type": "code",
   "execution_count": null,
   "id": "0505e494",
   "metadata": {
    "vscode": {
     "languageId": "sql"
    }
   },
   "outputs": [],
   "source": []
  }
 ],
 "metadata": {
  "language_info": {
   "name": "python"
  }
 },
 "nbformat": 4,
 "nbformat_minor": 5
}
