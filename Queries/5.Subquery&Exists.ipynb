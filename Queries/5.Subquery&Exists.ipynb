{
 "cells": [
  {
   "cell_type": "markdown",
   "id": "1c1f2459",
   "metadata": {},
   "source": [
    "### Subqueries & EXISTS Operator: Demonstrate advanced SQL logic using subqueries and EXISTS clauses."
   ]
  },
  {
   "cell_type": "markdown",
   "id": "2af09040",
   "metadata": {},
   "source": [
    "### 1. List customer names and states that ordered products with  “Natural Ash” finish and are located outside California."
   ]
  },
  {
   "cell_type": "code",
   "execution_count": null,
   "id": "003742f5",
   "metadata": {
    "vscode": {
     "languageId": "sql"
    }
   },
   "outputs": [],
   "source": [
    "SELECT DISTINCT CustomerName, CustomerState\n",
    "FROM Customer_T CT \n",
    "INNER JOIN Order_T OT ON CT.CustomerID = OT.CustomerID\n",
    "INNER JOIN OrderLine_T OLT ON OT.OrderID = OLT.OrderID\n",
    "WHERE EXISTS (\n",
    "\tSELECT *\n",
    "\tFROM Product_T\n",
    "\tWHERE ProductID = OLT.ProductID                  --'that ordered products with...' implies a subquery\n",
    "\tAND ProductFinish = 'Natural Ash'\t\t\t\t --since productfinish is not part of the display\n",
    "\t)\t\t\t\t\t\t\t\t\t\t\t\t --We want to filter each record by its association w/ 'natural ash' in order\n",
    "AND CustomerState != 'CA'; --alt: NOT IN ('CA')"
   ]
  },
  {
   "cell_type": "markdown",
   "id": "4c113511",
   "metadata": {
    "vscode": {
     "languageId": "plaintext"
    }
   },
   "source": [
    "### 2. What are the customer states and their order IDs that include product(s) with more than the average standard price? (EXISTS)"
   ]
  },
  {
   "cell_type": "code",
   "execution_count": null,
   "id": "e7b8e549",
   "metadata": {
    "vscode": {
     "languageId": "sql"
    }
   },
   "outputs": [],
   "source": [
    "SELECT DISTINCT CustomerState, OT.OrderID\n",
    "FROM Customer_T CT \n",
    "INNER JOIN Order_T OT ON CT.CustomerID = OT.CustomerID\n",
    "INNER JOIN OrderLine_T OLT ON OT.OrderID = OLT.OrderID\n",
    "WHERE EXISTS (                                       --'that include.. with...' implies a compound subquery\n",
    "\tSELECT *\n",
    "\tFROM Product_T\n",
    "\tWHERE ProductID = OLT.ProductID\n",
    "\tAND ProductStandardPrice > (\n",
    "\t\tSELECT AVG(ProductStandardPrice)\n",
    "\t\tFROM Product_T\n",
    "\t\t)\n",
    "\t)\n",
    ";"
   ]
  },
  {
   "cell_type": "markdown",
   "id": "b2a68526",
   "metadata": {},
   "source": [
    "### 3. Retrieve name and IDs of customers that have not placed any orders or they are located in Texas. Sort the result based on the customer ID"
   ]
  },
  {
   "cell_type": "code",
   "execution_count": null,
   "id": "66b953e0",
   "metadata": {
    "vscode": {
     "languageId": "sql"
    }
   },
   "outputs": [],
   "source": [
    "SELECT CustomerName, CustomerID --DISTINCT NOT needed\n",
    "FROM Customer_T CT\n",
    "WHERE CustomerID NOT IN (\t    --We can compare the records with a group returned after the subquery finishes\n",
    "\tSELECT CustomerID\n",
    "\tFROM Order_T OT\n",
    "\t)\n",
    "OR CustomerState = 'TX'\n",
    "ORDER BY CustomerID;"
   ]
  },
  {
   "cell_type": "markdown",
   "id": "a2cc01e8",
   "metadata": {},
   "source": [
    "### 4. Show description and total quantity of products that have been ordered a total of more than 3 quantity and are more expensive than the average price of product lines 1 and 2"
   ]
  },
  {
   "cell_type": "code",
   "execution_count": null,
   "id": "a6366f36",
   "metadata": {
    "vscode": {
     "languageId": "sql"
    }
   },
   "outputs": [],
   "source": [
    "SELECT ProductDescription, SUM(OrderedQuantity) AS \"How Many Sold\"\n",
    "FROM OrderLine_T OLT INNER JOIN Product_T PT\n",
    "ON OLT.ProductID = PT.ProductID\n",
    "WHERE EXISTS (\t\t\t\t\t\t\t\t--Compound subquery of both product price > avg(price)\n",
    "\tSELECT *\t\t\t\t\t\t\t\t--of productlines 1 & 2\n",
    "\tFROM Product_T\n",
    "\tWHERE ProductID = PT.ProductID\n",
    "\tAND ProductStandardPrice > (\t\t\t--To compare AVG price per EACH record (of productline 1,2) we must evaluate at this\n",
    "\t\tSELECT AVG(ProductStandardPrice)\t--level first\n",
    "\t\tFROM Product_T \n",
    "\t\tWHERE ProductLineID IN (1,2)\n",
    "\t\t)\n",
    "\t)\n",
    "GROUP BY ProductDescription\n",
    "HAVING \"How Many Sold\" > 3;"
   ]
  }
 ],
 "metadata": {
  "language_info": {
   "name": "python"
  }
 },
 "nbformat": 4,
 "nbformat_minor": 5
}
