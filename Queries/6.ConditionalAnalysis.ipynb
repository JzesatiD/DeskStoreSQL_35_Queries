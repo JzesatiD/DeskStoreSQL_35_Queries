{
 "cells": [
  {
   "cell_type": "markdown",
   "id": "1c1f2459",
   "metadata": {},
   "source": [
    "### Conditional Analysis: Apply conditional logic using WHERE, HAVING, and multi-state filters"
   ]
  },
  {
   "cell_type": "markdown",
   "id": "2af09040",
   "metadata": {},
   "source": [
    "### 1. Display the names and addresses of Florida customers with total orders of more than $2000 value"
   ]
  },
  {
   "cell_type": "code",
   "execution_count": null,
   "id": "003742f5",
   "metadata": {
    "vscode": {
     "languageId": "sql"
    }
   },
   "outputs": [],
   "source": [
    "SELECT CustomerName, CustomerAddress, CustomerState, \n",
    "SUM(OrderedQuantity*ProductStandardPrice) AS TotalOrder\n",
    "FROM Customer_T\n",
    "INNER JOIN Order_T ON CT.CustomerID = OT.CustomerID\n",
    "INNER JOIN OrderLine_T OLT ON OT.OrderID = OLT.OrderID\n",
    "INNER JOIN Product_T PT ON OLT.ProductID = PT.ProductID\n",
    "WHERE CustomerState = 'FL'\n",
    "GROUP BY CustomerName, CustomerAddress, CustomerState\n",
    "HAVING TotalOrder > 2000;"
   ]
  },
  {
   "cell_type": "code",
   "execution_count": null,
   "id": "80b892dd",
   "metadata": {
    "vscode": {
     "languageId": "plaintext"
    }
   },
   "outputs": [],
   "source": [
    "Explaination: "
   ]
  },
  {
   "cell_type": "markdown",
   "id": "4c113511",
   "metadata": {
    "vscode": {
     "languageId": "plaintext"
    }
   },
   "source": [
    "### 2. Names of Florida customers with more than one order\n",
    "Possible rePEAT"
   ]
  },
  {
   "cell_type": "code",
   "execution_count": null,
   "id": "e7b8e549",
   "metadata": {
    "vscode": {
     "languageId": "sql"
    }
   },
   "outputs": [],
   "source": [
    "SELECT CustomerName, CustomerState\n",
    "FROM Customer_T\n",
    "WHERE CustomerState NOT IN ('CA', 'FL', 'TX')\n",
    "ORDER BY CustomerName, CustomerState;"
   ]
  },
  {
   "cell_type": "markdown",
   "id": "260a0988",
   "metadata": {},
   "source": [
    "### 3. For Customers with one or more orders, display their names and number of times they placed orders"
   ]
  },
  {
   "cell_type": "code",
   "execution_count": null,
   "id": "fdcfbba0",
   "metadata": {
    "vscode": {
     "languageId": "sql"
    }
   },
   "outputs": [],
   "source": [
    "SELECT CustomerName, COUNT(CT.CustomerID) AS NumOfOrders\n",
    "FROM Customer_T CT INNER JOIN Order_T OT\n",
    "ON CT.CustomerID = OT.CustomerID\n",
    "GROUP BY CustomerName\n",
    "HAVING NumOfOrders >= 1; "
   ]
  },
  {
   "cell_type": "markdown",
   "id": "b2a68526",
   "metadata": {},
   "source": [
    "### 4. For orders placed by customers from Florida or include products with “Cherry” finish, retrieve order IDs, Customer names, their state, and the total amount of orders "
   ]
  },
  {
   "cell_type": "code",
   "execution_count": null,
   "id": "66b953e0",
   "metadata": {
    "vscode": {
     "languageId": "sql"
    }
   },
   "outputs": [],
   "source": [
    "SELECT DISTINCT OT.OrderID, CustomerName, CustomerState,\n",
    "SUM(OrderedQuantity*ProductStandardPrice) AS OrderTotal\n",
    "FROM Customer_T CT\n",
    "INNER JOIN Order_T OT ON CT.CustomerID = OT.CustomerID\n",
    "INNER JOIN OrderLine_T OLT ON OT.OrderID = OLT.OrderID\n",
    "INNER JOIN Product_T PT ON OLT.ProductID = PT.ProductID\n",
    "WHERE EXISTS(\n",
    "\tSELECT *\n",
    "\tFROM Customer_T CT\n",
    "\tWHERE CustomerID = OT.CustomerID\n",
    "\tAND (\n",
    "\t\tCustomerState = 'FL'\n",
    "\t\tOR ProductFinish = 'Cherry'\n",
    "\t\t)\n",
    "\t) \n",
    "GROUP BY OT.OrderID, CustomerName, CustomerState;"
   ]
  },
  {
   "cell_type": "markdown",
   "id": "93c0663d",
   "metadata": {},
   "source": [
    "### 5. For each customer with less than 2 orders and outside of California and Florida, display their names and how many times each customer placed orders."
   ]
  },
  {
   "cell_type": "code",
   "execution_count": null,
   "id": "8bba6bbe",
   "metadata": {
    "vscode": {
     "languageId": "sql"
    }
   },
   "outputs": [],
   "source": [
    "SELECT CustomerName, COUNT(OrderID) AS CountOfOrders\n",
    "FROM Customer_T CT LEFT OUTER JOIN Order_T OT\n",
    "ON CT.CustomerID = OT.CustomerID\n",
    "WHERE CustomerState NOT IN ('CA', 'FL')\n",
    "GROUP BY CustomerName\n",
    "HAVING CountOfOrders < 2;"
   ]
  },
  {
   "cell_type": "code",
   "execution_count": null,
   "id": "82eb6fc2",
   "metadata": {
    "vscode": {
     "languageId": "sql"
    }
   },
   "outputs": [],
   "source": []
  }
 ],
 "metadata": {
  "language_info": {
   "name": "python"
  }
 },
 "nbformat": 4,
 "nbformat_minor": 5
}
